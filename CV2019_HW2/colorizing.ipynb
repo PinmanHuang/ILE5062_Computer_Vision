{
 "cells": [
  {
   "cell_type": "markdown",
   "metadata": {},
   "source": [
    "# Colorizing the Russian Empire\n",
    "\n",
    "Automatically produce a color image from the digitized Prokudin-Gorskii glass plate images with as few visual artifacts as possible."
   ]
  },
  {
   "cell_type": "code",
   "execution_count": 1,
   "metadata": {},
   "outputs": [],
   "source": [
    "import cv2\n",
    "import numpy as np\n",
    "import matplotlib.pyplot as plt"
   ]
  },
  {
   "cell_type": "code",
   "execution_count": 2,
   "metadata": {},
   "outputs": [],
   "source": [
    "def read_image(fname):\n",
    "    img = cv2.imread(fname, 0)\n",
    "    height = int(img.shape[0]/3)\n",
    "    width = img.shape[1]\n",
    "    rgb_img = np.zeros((height, width, 3), dtype=np.uint8)\n",
    "    for i in range(3):\n",
    "        rgb_img[:,:,2-i] = img[height*i:height*(i+1),:]\n",
    "    return rgb_img, height, width"
   ]
  },
  {
   "cell_type": "code",
   "execution_count": 3,
   "metadata": {},
   "outputs": [],
   "source": [
    "def get_gradient(im) :\n",
    "    # Calculate the x and y gradients using Sobel operator\n",
    "    grad_x = cv2.Sobel(im,cv2.CV_32F,1,0,ksize=3)\n",
    "    grad_y = cv2.Sobel(im,cv2.CV_32F,0,1,ksize=3)\n",
    "    # Combine the two gradients\n",
    "    grad = cv2.addWeighted(np.absolute(grad_x), 0.5, np.absolute(grad_y), 0.5, 0)\n",
    "    return grad"
   ]
  },
  {
   "cell_type": "code",
   "execution_count": 4,
   "metadata": {},
   "outputs": [],
   "source": [
    "def align_image(rgb_img, height, width, warp_mode, number_of_iterations, termination_eps):\n",
    "    # Allocate space for aligned image\n",
    "    im_aligned = np.zeros((height,width,3), dtype=np.uint8 )\n",
    "\n",
    "    # The blue and green channels will be aligned to the red channel.\n",
    "    # So copy the red channel\n",
    "    im_aligned[:,:,2] = rgb_img[:,:,2]\n",
    "\n",
    "    # Set the warp matrix to identity.\n",
    "    if warp_mode == cv2.MOTION_HOMOGRAPHY :\n",
    "            warp_matrix = np.eye(3, 3, dtype=np.float32)\n",
    "    else :\n",
    "            warp_matrix = np.eye(2, 3, dtype=np.float32)\n",
    "\n",
    "    # Set the stopping criteria for the algorithm.\n",
    "    criteria = (cv2.TERM_CRITERIA_EPS | cv2.TERM_CRITERIA_COUNT, number_of_iterations,  termination_eps)\n",
    "\n",
    "    # Warp the blue and green channels to the red channel\n",
    "    for i in range(0,2) :\n",
    "        (cc, warp_matrix) = cv2.findTransformECC (get_gradient(rgb_img[:,:,2]), get_gradient(rgb_img[:,:,i]),warp_matrix, warp_mode, criteria)\n",
    "\n",
    "        if warp_mode == cv2.MOTION_HOMOGRAPHY :\n",
    "            # Use Perspective warp when the transformation is a Homography\n",
    "            im_aligned[:,:,i] = cv2.warpPerspective (rgb_img[:,:,i], warp_matrix, (width,height), flags=cv2.INTER_LINEAR + cv2.WARP_INVERSE_MAP)\n",
    "        else :\n",
    "            # Use Affine warp when the transformation is not a Homography\n",
    "            im_aligned[:,:,i] = cv2.warpAffine(rgb_img[:,:,i], warp_matrix, (width, height), flags=cv2.INTER_LINEAR + cv2.WARP_INVERSE_MAP);\n",
    "        print(warp_matrix)\n",
    "    return im_aligned\n"
   ]
  },
  {
   "cell_type": "code",
   "execution_count": null,
   "metadata": {},
   "outputs": [],
   "source": [
    "img, h, w = read_image(\"./hw2_data/task3_colorizing/emir.tif\")\n",
    "# warp_mode = cv2.MOTION_TRANSLATION\n",
    "warp_mode = cv2.MOTION_HOMOGRAPHY\n",
    "number_of_iterations = 1000\n",
    "termination_eps = 1e-10\n",
    "result = align_image(img, h, w, warp_mode, number_of_iterations, termination_eps)"
   ]
  },
  {
   "cell_type": "code",
   "execution_count": null,
   "metadata": {},
   "outputs": [],
   "source": [
    "plt.imshow(result)\n",
    "plt.show()"
   ]
  },
  {
   "cell_type": "code",
   "execution_count": null,
   "metadata": {},
   "outputs": [],
   "source": []
  }
 ],
 "metadata": {
  "kernelspec": {
   "display_name": "Python 3",
   "language": "python",
   "name": "python3"
  },
  "language_info": {
   "codemirror_mode": {
    "name": "ipython",
    "version": 3
   },
   "file_extension": ".py",
   "mimetype": "text/x-python",
   "name": "python",
   "nbconvert_exporter": "python",
   "pygments_lexer": "ipython3",
   "version": "3.7.2"
  }
 },
 "nbformat": 4,
 "nbformat_minor": 2
}
